{
 "cells": [
  {
   "cell_type": "markdown",
   "id": "9fb44f6d",
   "metadata": {},
   "source": [
    "# SageMaker JumpStart - deploy automatic speech recognition model"
   ]
  },
  {
   "cell_type": "markdown",
   "id": "0c2bc55e",
   "metadata": {
    "tags": []
   },
   "source": [
    "This notebook demonstrates how to use the SageMaker Python SDK to deploy a JumpStart automatic speech recognition model."
   ]
  },
  {
   "cell_type": "code",
   "execution_count": 3,
   "id": "7b54b344-16db-4334-804d-7b2c8d631eb0",
   "metadata": {},
   "outputs": [
    {
     "name": "stdout",
     "output_type": "stream",
     "text": [
      "sagemaker.config INFO - Not applying SDK defaults from location: /etc/xdg/sagemaker/config.yaml\n",
      "sagemaker.config INFO - Not applying SDK defaults from location: /home/sagemaker-user/.config/sagemaker/config.yaml\n"
     ]
    }
   ],
   "source": [
    "import sagemaker\n",
    "import time\n",
    "import boto3\n",
    "import json\n",
    "from sagemaker.utils import name_from_base\n",
    "\n",
    "sess = sagemaker.Session()\n",
    "bucket = sess.default_bucket() # Set a default S3 bucket\n",
    "prefix = 'whisper-sm-js'\n",
    "\n",
    "# S3 client\n",
    "s3 = boto3.client('s3')"
   ]
  },
  {
   "cell_type": "code",
   "execution_count": 4,
   "id": "8a357fa6",
   "metadata": {
    "tags": []
   },
   "outputs": [],
   "source": [
    "import json\n",
    "\n",
    "import boto3\n",
    "from sagemaker.jumpstart.model import JumpStartModel\n",
    "from sagemaker.jumpstart.utils import get_jumpstart_content_bucket"
   ]
  },
  {
   "cell_type": "markdown",
   "id": "89965762",
   "metadata": {},
   "source": [
    "Select your desired model ID. You can search for available models in the [Built-in Algorithms with pre-trained Model Table](https://sagemaker.readthedocs.io/en/stable/doc_utils/pretrainedmodels.html)."
   ]
  },
  {
   "cell_type": "code",
   "execution_count": 5,
   "id": "fb9d688c",
   "metadata": {
    "jumpStartAlterations": [
     "modelIdOnly"
    ],
    "tags": []
   },
   "outputs": [],
   "source": [
    "model_id = \"huggingface-asr-whisper-small\"\n",
    "\n",
    "#\"huggingface-asr-whisper-large-v3\""
   ]
  },
  {
   "cell_type": "markdown",
   "id": "4c606017-49f8-4073-8dab-001ceaec54c3",
   "metadata": {},
   "source": [
    "## > Predict Async with SageMaker SDK"
   ]
  },
  {
   "cell_type": "code",
   "execution_count": 6,
   "id": "0668947f-0d72-49ee-a18d-98ca1c774e9a",
   "metadata": {},
   "outputs": [],
   "source": [
    "from sagemaker.async_inference import AsyncInferenceConfig\n",
    "\n",
    "# Create an AsyncInferenceConfig object\n",
    "async_config = AsyncInferenceConfig(\n",
    "    output_path=f\"s3://{bucket}/{prefix}/output\", \n",
    "    max_concurrent_invocations_per_instance = 4,\n",
    "    # notification_config = {\n",
    "            #   \"SuccessTopic\": \"arn:aws:sns:us-east-2:123456789012:MyTopic\",\n",
    "            #   \"ErrorTopic\": \"arn:aws:sns:us-east-2:123456789012:MyTopic\",\n",
    "    # }, #  Notification configuration \n",
    ")"
   ]
  },
  {
   "cell_type": "code",
   "execution_count": 7,
   "id": "715d488e-87d0-4462-9fd6-49e68203830a",
   "metadata": {},
   "outputs": [
    {
     "name": "stderr",
     "output_type": "stream",
     "text": [
      "Using model 'huggingface-asr-whisper-small' with wildcard version identifier '*'. You can pin to version '3.0.0' for more stable results. Note that models may have different input/output signatures after a major version upgrade.\n"
     ]
    }
   ],
   "source": [
    "model = JumpStartModel(model_id=model_id)"
   ]
  },
  {
   "cell_type": "code",
   "execution_count": 15,
   "id": "b0c573a8-e63e-40f2-816c-a63b922dd8d9",
   "metadata": {},
   "outputs": [
    {
     "name": "stderr",
     "output_type": "stream",
     "text": [
      "Using already existing model: hf-asr-whisper-small-2024-06-13-23-28-54-108\n"
     ]
    },
    {
     "name": "stdout",
     "output_type": "stream",
     "text": [
      "----------!"
     ]
    }
   ],
   "source": [
    "# Deploy the model for async inference\n",
    "endpoint_name = name_from_base(f\"{prefix}-async-endpoint\")\n",
    "\n",
    "async_predictor = model.deploy(\n",
    "    async_inference_config=async_config,\n",
    "    instance_type=\"ml.g5.2xlarge\",\n",
    "    initial_instance_count=1,\n",
    "    endpoint_name=endpoint_name,\n",
    ")"
   ]
  },
  {
   "cell_type": "markdown",
   "id": "2f03bf76-20c8-4762-9278-772b7cb1c371",
   "metadata": {},
   "source": [
    "## > Download sample audio file"
   ]
  },
  {
   "cell_type": "code",
   "execution_count": 16,
   "id": "d452968b-9e5b-475e-88de-5aa69b28b906",
   "metadata": {},
   "outputs": [],
   "source": [
    "def download_and_load_audio_file(file_name):\n",
    "    s3_bucket = get_jumpstart_content_bucket()\n",
    "    s3_prefix = \"training-datasets/asr_notebook_data\"\n",
    "    s3_client = boto3.client(\"s3\")\n",
    "    s3_client.download_file(s3_bucket, f\"{s3_prefix}/{file_name}\", file_name)\n",
    "    with open(file_name, \"rb\") as file:\n",
    "        input_audio = file.read()\n",
    "    return input_audio\n",
    "\n",
    "audio_file = \"sample1.wav\"\n",
    "input_audio = download_and_load_audio_file(audio_file)"
   ]
  },
  {
   "cell_type": "markdown",
   "id": "6d0baf1a-a807-4cbc-9957-074db73baec9",
   "metadata": {},
   "source": [
    "## Invoke"
   ]
  },
  {
   "cell_type": "code",
   "execution_count": 18,
   "id": "944dd413-21d5-4df3-aee2-40e4c41f120e",
   "metadata": {},
   "outputs": [
    {
     "name": "stdout",
     "output_type": "stream",
     "text": [
      "s3://sagemaker-us-west-2-376678947624/whisper-sm-js/output/15e4b93e-9437-496a-a9ee-6325ad00954e.out\n"
     ]
    }
   ],
   "source": [
    "response = async_predictor.predict_async(\n",
    "    data=input_audio,\n",
    "    initial_args={'ContentType': 'audio/wav'})\n",
    "print(response.output_path)"
   ]
  },
  {
   "cell_type": "markdown",
   "id": "38088761-be13-4507-b273-6ebf3634d857",
   "metadata": {},
   "source": [
    "## > Invoke in batch"
   ]
  },
  {
   "cell_type": "code",
   "execution_count": 19,
   "id": "bb7771bb-4bd9-4741-a5c6-61b61a9885c1",
   "metadata": {},
   "outputs": [],
   "source": [
    "## upload the sample file\n",
    "s3_key = f\"{prefix}/input/{audio_file}\"\n",
    "s3.upload_file(audio_file, bucket, s3_key)"
   ]
  },
  {
   "cell_type": "code",
   "execution_count": 20,
   "id": "d03506ad-84ef-44d5-bdaf-f1d53a264d60",
   "metadata": {},
   "outputs": [
    {
     "name": "stdout",
     "output_type": "stream",
     "text": [
      "Created duplicate copy s3://sagemaker-us-west-2-376678947624/whisper-sm-js/input/sample1_1.wav\n",
      "Created duplicate copy s3://sagemaker-us-west-2-376678947624/whisper-sm-js/input/sample1_2.wav\n",
      "Created duplicate copy s3://sagemaker-us-west-2-376678947624/whisper-sm-js/input/sample1_3.wav\n",
      "Created duplicate copy s3://sagemaker-us-west-2-376678947624/whisper-sm-js/input/sample1_4.wav\n",
      "Created duplicate copy s3://sagemaker-us-west-2-376678947624/whisper-sm-js/input/sample1_5.wav\n",
      "Created duplicate copy s3://sagemaker-us-west-2-376678947624/whisper-sm-js/input/sample1_6.wav\n",
      "Created duplicate copy s3://sagemaker-us-west-2-376678947624/whisper-sm-js/input/sample1_7.wav\n",
      "Created duplicate copy s3://sagemaker-us-west-2-376678947624/whisper-sm-js/input/sample1_8.wav\n",
      "Created duplicate copy s3://sagemaker-us-west-2-376678947624/whisper-sm-js/input/sample1_9.wav\n",
      "Created duplicate copy s3://sagemaker-us-west-2-376678947624/whisper-sm-js/input/sample1_10.wav\n"
     ]
    }
   ],
   "source": [
    "num_duplicates = 10\n",
    "\n",
    "# Create duplicate copies\n",
    "for i in range(num_duplicates):\n",
    "    duplicate_key = f\"{s3_key.rsplit('.', 1)[0]}_{i+1}.{s3_key.rsplit('.', 1)[1]}\"\n",
    "    copy_source = {\n",
    "        'Bucket': bucket,\n",
    "        'Key': s3_key\n",
    "    }\n",
    "    s3.copy_object(Bucket=bucket, Key=duplicate_key, CopySource=copy_source)\n",
    "    print(f\"Created duplicate copy s3://{bucket}/{duplicate_key}\")"
   ]
  },
  {
   "cell_type": "code",
   "execution_count": 21,
   "id": "343ec62c-71e5-42e1-bd52-ef2dc0157822",
   "metadata": {},
   "outputs": [
    {
     "name": "stdout",
     "output_type": "stream",
     "text": [
      "s3://sagemaker-us-west-2-376678947624/whisper-sm-js/output/6861581c-6287-4fba-89ce-e16d4112b2a3.out\n",
      "s3://sagemaker-us-west-2-376678947624/whisper-sm-js/output/216387e5-58d7-4488-b927-1d9cc72f08d1.out\n",
      "s3://sagemaker-us-west-2-376678947624/whisper-sm-js/output/0262652a-2626-4ff8-9f65-65be65a0ba82.out\n",
      "s3://sagemaker-us-west-2-376678947624/whisper-sm-js/output/700c5910-e697-4625-beb3-76fcab86c1e4.out\n",
      "s3://sagemaker-us-west-2-376678947624/whisper-sm-js/output/319b7a9a-183c-4526-87ee-4d2da1e08dba.out\n",
      "s3://sagemaker-us-west-2-376678947624/whisper-sm-js/output/597eeb17-caa1-460b-aa67-e9a06c1ed1a0.out\n",
      "s3://sagemaker-us-west-2-376678947624/whisper-sm-js/output/06565fc8-66d4-4f9c-85d5-baefd790a095.out\n",
      "s3://sagemaker-us-west-2-376678947624/whisper-sm-js/output/bdfb606d-ecda-4c2e-9588-48c4daee833c.out\n",
      "s3://sagemaker-us-west-2-376678947624/whisper-sm-js/output/b57a3152-dc25-46e2-87fd-34b078701073.out\n",
      "s3://sagemaker-us-west-2-376678947624/whisper-sm-js/output/409e54bc-79bb-479f-9ad0-e2a23340b445.out\n",
      "s3://sagemaker-us-west-2-376678947624/whisper-sm-js/output/ac8f46b4-8531-4126-8ddf-0ba58db3a839.out\n"
     ]
    }
   ],
   "source": [
    "response = s3.list_objects_v2(Bucket=bucket, Prefix=f\"{prefix}/input/\")\n",
    "\n",
    "for obj in response.get('Contents', []):\n",
    "    key = obj['Key']\n",
    "    input_path = f\"s3://{bucket}/{key}\"\n",
    "\n",
    "    \n",
    "    response = async_predictor.predict_async(\n",
    "        input_path=input_path,\n",
    "        initial_args={'ContentType': 'audio/wav'})\n",
    "\n",
    "    print(response.output_path)"
   ]
  },
  {
   "cell_type": "markdown",
   "id": "6cd96fd9-da36-4f9c-899d-a6d78dce2c63",
   "metadata": {},
   "source": [
    "## > Clean up"
   ]
  },
  {
   "cell_type": "code",
   "execution_count": 22,
   "id": "7d9b0c77-4709-4bb5-93ad-5f31c4783968",
   "metadata": {},
   "outputs": [],
   "source": [
    "async_predictor.delete_endpoint()"
   ]
  },
  {
   "cell_type": "code",
   "execution_count": null,
   "id": "b26f7e56-1a3a-4e51-9283-efec6094e07b",
   "metadata": {},
   "outputs": [],
   "source": []
  }
 ],
 "metadata": {
  "instance_type": "ml.t3.medium",
  "kernelspec": {
   "display_name": "Python 3 (ipykernel)",
   "language": "python",
   "name": "python3"
  },
  "language_info": {
   "codemirror_mode": {
    "name": "ipython",
    "version": 3
   },
   "file_extension": ".py",
   "mimetype": "text/x-python",
   "name": "python",
   "nbconvert_exporter": "python",
   "pygments_lexer": "ipython3",
   "version": "3.10.14"
  }
 },
 "nbformat": 4,
 "nbformat_minor": 5
}
